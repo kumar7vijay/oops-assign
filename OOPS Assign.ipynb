{
  "metadata": {
    "kernelspec": {
      "name": "python",
      "display_name": "Python (Pyodide)",
      "language": "python"
    },
    "language_info": {
      "codemirror_mode": {
        "name": "python",
        "version": 3
      },
      "file_extension": ".py",
      "mimetype": "text/x-python",
      "name": "python",
      "nbconvert_exporter": "python",
      "pygments_lexer": "ipython3",
      "version": "3.8"
    }
  },
  "nbformat_minor": 4,
  "nbformat": 4,
  "cells": [
    {
      "cell_type": "markdown",
      "source": "## 1. What are the five key concepts of Object-Oriented Programming (OOP)? ",
      "metadata": {}
    },
    {
      "cell_type": "markdown",
      "source": "The five key concepts of Object-Oriented Programming (OOP) are:\n\n### 1. Encapsulation: \nThis concept involves bundling data (attributes) and methods (functions) that operate on the data into a single unit, called an object. It restricts direct access to some of the object's components, which helps maintain the integrity of the data.\n\n### 2. Abstraction: \nAbstraction allows developers to simplify complex systems by modeling classes based on the essential properties and behaviors of an object, while hiding the unnecessary details. This helps to focus on what an object does rather than how it does it.\n\n### 3. Inheritance: \nInheritance enables a new class (subclass or derived class) to inherit properties and methods from an existing class (superclass or base class). This promotes code reuse and establishes a hierarchical relationship between classes.\n\n### 4. Polymorphism: \nPolymorphism allows objects of different classes to be treated as objects of a common superclass. It enables methods to do different things based on the object that it is acting upon, typically achieved through method overriding and interfaces.\n\n### 5. Composition: \nComposition involves building complex types by combining objects (or other classes). It promotes a \"has-a\" relationship rather than an \"is-a\" relationship, allowing for more flexible and modular design.\n\nThese concepts work together to create a robust framework for designing and organizing code in a way that promotes maintainability and scalability.",
      "metadata": {}
    },
    {
      "cell_type": "markdown",
      "source": "## 2. Write a Python class for a `Car` with attributes for `make`, `model`, and `year`. Include a method to display the car's information.",
      "metadata": {}
    },
    {
      "cell_type": "markdown",
      "source": "Here’s a simple Python class for a Car that includes the specified attributes and a method to display the car's information:",
      "metadata": {}
    },
    {
      "cell_type": "code",
      "source": "class Car:\n    def __init__(self, make, model, year):\n        self.make = make\n        self.model = model\n        self.year = year\n\n    def display_info(self):\n        print(f\"Car Information: {self.year} {self.make} {self.model}\")\n\n# Example usage\nmy_car = Car(\"Toyota\", \"Camry\", 2020)\nmy_car.display_info()",
      "metadata": {
        "trusted": true
      },
      "outputs": [],
      "execution_count": null
    },
    {
      "cell_type": "markdown",
      "source": "In this code:\n\n* The __init__ method initializes the attributes make, model, and year.\n* The display_info method prints out the car's information in a readable format.\n\nIt can create an instance of the Car class and call the display_info method to see the car's details.",
      "metadata": {}
    },
    {
      "cell_type": "markdown",
      "source": "## 3. Explain the difference between instance methods and class methods. Provide an example of each.",
      "metadata": {}
    },
    {
      "cell_type": "markdown",
      "source": "In Python, instance methods and class methods are two types of methods that have different uses and behaviors. Here’s a breakdown of their differences along with examples:\n\n### Instance Methods\n#### Definition: \nInstance methods are functions that operate on an instance of the class (an object). They can access and modify the instance's attributes and are defined with self as the first parameter.\n\n#### Example:",
      "metadata": {}
    },
    {
      "cell_type": "code",
      "source": "class Dog:\n    def __init__(self, name):\n        self.name = name\n\n    def bark(self):\n        return f\"{self.name} says woof!\"\n\n# Creating an instance of Dog\nmy_dog = Dog(\"Tommy\")\nprint(my_dog.bark())",
      "metadata": {
        "trusted": true
      },
      "outputs": [
        {
          "name": "stdout",
          "text": "Tommy says woof!\n",
          "output_type": "stream"
        }
      ],
      "execution_count": 4
    },
    {
      "cell_type": "markdown",
      "source": "### Class Methods\n#### Definition: \nClass methods operate on the class itself rather than instances of the class. They are defined using the @classmethod decorator and take cls as the first parameter, which refers to the class itself.\n\n#### Example:",
      "metadata": {}
    },
    {
      "cell_type": "code",
      "source": "class Dog:\n    number_of_legs = 4\n\n    @classmethod\n    def legs_info(cls):\n        return f\"All dogs have {cls.number_of_legs} legs.\"\n\n# Calling the class method\nprint(Dog.legs_info())  ",
      "metadata": {
        "trusted": true
      },
      "outputs": [
        {
          "name": "stdout",
          "text": "All dogs have 4 legs.\n",
          "output_type": "stream"
        }
      ],
      "execution_count": 5
    },
    {
      "cell_type": "markdown",
      "source": "### Key Differences\n#### 1. Binding:\n\n* Instance methods are bound to the instance of the class.\n* Class methods are bound to the class itself.\n\n#### 2. Access:\n\n* Instance methods can access instance attributes and methods.\n* Class methods can access class attributes but not instance attributes.\n\n#### 3. Usage:\n\n* Use instance methods when you need to perform operations related to a specific object.\n* Use class methods for operations that pertain to the class itself, such as factory methods or modifying class-level data.\n\nThis distinction helps in designing classes and managing data effectively within an object-oriented structure.",
      "metadata": {}
    },
    {
      "cell_type": "markdown",
      "source": "## 4. How does Python implement method overloading? Give an example. ",
      "metadata": {}
    },
    {
      "cell_type": "markdown",
      "source": "Python does not support traditional method overloading like some other programming languages (e.g., Java or C++). Instead, it allows you to define a method with the same name but handles the different types or numbers of arguments using default arguments or variable-length arguments.\n\n### Using Default Arguments\n\nIt can define default values for parameters, allowing the same method to be called with varying numbers of arguments.\n\n#### Example:",
      "metadata": {}
    },
    {
      "cell_type": "code",
      "source": "class MathOperations:\n    def add(self, a, b=0):\n        return a + b\n\n# Creating an instance of MathOperations\nmath_ops = MathOperations()\n\nprint(math_ops.add(5, 3))  \nprint(math_ops.add(5))     ",
      "metadata": {
        "trusted": true
      },
      "outputs": [
        {
          "name": "stdout",
          "text": "8\n5\n",
          "output_type": "stream"
        }
      ],
      "execution_count": 6
    },
    {
      "cell_type": "markdown",
      "source": "### Using Variable-Length Arguments\n\nIt can also use *args for a variable number of positional arguments or **kwargs for a variable number of keyword arguments.\n\n#### Example:",
      "metadata": {}
    },
    {
      "cell_type": "code",
      "source": "class MathOperations:\n    def add(self, *args):\n        return sum(args)\n\n# Creating an instance of MathOperations\nmath_ops = MathOperations()\n\nprint(math_ops.add(1, 2))          \nprint(math_ops.add(1, 2, 3, 4, 5))  ",
      "metadata": {
        "trusted": true
      },
      "outputs": [
        {
          "name": "stdout",
          "text": "3\n15\n",
          "output_type": "stream"
        }
      ],
      "execution_count": 7
    },
    {
      "cell_type": "markdown",
      "source": "### Summary\n\nIn Python, method overloading is typically managed through default values or variable-length arguments. This approach allows flexibility in method definitions, enabling a single method to handle multiple use cases.",
      "metadata": {}
    },
    {
      "cell_type": "markdown",
      "source": "## 5. What are the three types of access modifiers in Python? How are they denoted?",
      "metadata": {}
    },
    {
      "cell_type": "markdown",
      "source": "In Python, access modifiers control the visibility and accessibility of class attributes and methods. There are three main types of access modifiers:\n\n### 1. Public\n\n* Description: Public members (attributes and methods) can be accessed from anywhere, both inside and outside the class.\n* Denotation: Public members are defined without any special prefix.\n\n#### Example:",
      "metadata": {}
    },
    {
      "cell_type": "code",
      "source": "class Example:\n    def __init__(self):\n        self.public_attribute = \"I am public\"\n\n    def public_method(self):\n        return \"This is a public method\"\n\nobj = Example()\nprint(obj.public_attribute)  # Accessible\nprint(obj.public_method())   # Accessible",
      "metadata": {
        "trusted": true
      },
      "outputs": [
        {
          "name": "stdout",
          "text": "I am public\nThis is a public method\n",
          "output_type": "stream"
        }
      ],
      "execution_count": 8
    },
    {
      "cell_type": "markdown",
      "source": "### 2. Protected\n\n* Description: Protected members are intended to be accessible only within the class and its subclasses. They can still be accessed from outside the class, but it's discouraged.\n* Denotation: Protected members are denoted by a single underscore prefix (_).\n\n#### Example:",
      "metadata": {}
    },
    {
      "cell_type": "code",
      "source": "class Example:\n    def __init__(self):\n        self._protected_attribute = \"I am protected\"\n\n    def _protected_method(self):\n        return \"This is a protected method\"\n\nclass SubExample(Example):\n    def access_protected(self):\n        return self._protected_attribute  # Accessible in subclass\n\nobj = SubExample()\nprint(obj.access_protected())  # Accessible through subclass method\n# print(obj._protected_attribute)  # Not recommended, but accessible",
      "metadata": {
        "trusted": true
      },
      "outputs": [
        {
          "name": "stdout",
          "text": "I am protected\n",
          "output_type": "stream"
        }
      ],
      "execution_count": 9
    },
    {
      "cell_type": "markdown",
      "source": "### 3. Private\n\n* Description: Private members are intended to be accessible only within the class in which they are defined. They cannot be accessed from outside the class, not even by subclasses.\n* Denotation: Private members are denoted by a double underscore prefix (__).\n\n#### Example:",
      "metadata": {}
    },
    {
      "cell_type": "code",
      "source": "class Example:\n    def __init__(self):\n        self.__private_attribute = \"I am private\"\n\n    def __private_method(self):\n        return \"This is a private method\"\n\n    def access_private(self):\n        return self.__private_attribute  # Accessible within the class\n\nobj = Example()\nprint(obj.access_private())  # Accessible through public method\n# print(obj.__private_attribute)  # Not accessible (AttributeError)\n# print(obj.__private_method())    # Not accessible (AttributeError)",
      "metadata": {
        "trusted": true
      },
      "outputs": [
        {
          "name": "stdout",
          "text": "I am private\n",
          "output_type": "stream"
        }
      ],
      "execution_count": 10
    },
    {
      "cell_type": "markdown",
      "source": "### Summary\n\n* Public: Accessible anywhere (attribute).\n* Protected: Accessible within the class and subclasses (_attribute).\n* Private: Accessible only within the class (__attribute).\n\nThis structure helps to encapsulate data and define the intended access levels, promoting better code organization and protecting internal states.",
      "metadata": {}
    },
    {
      "cell_type": "markdown",
      "source": "## 6. Describe the five types of inheritance in Python. Provide a simple example of multiple inheritance.",
      "metadata": {}
    },
    {
      "cell_type": "markdown",
      "source": "In Python, there are five main types of inheritance:\n\n### 1. Single Inheritance\n\nA class (subclass) inherits from one parent class (superclass).\n\n#### Example:",
      "metadata": {}
    },
    {
      "cell_type": "code",
      "source": "class Animal:\n    def sound(self):\n        return \"Animal sound\"\n\nclass Dog(Animal):\n    def bark(self):\n        return \"Woof!\"\n\ndog = Dog()\nprint(dog.sound()) ",
      "metadata": {
        "trusted": true
      },
      "outputs": [
        {
          "name": "stdout",
          "text": "Animal sound\n",
          "output_type": "stream"
        }
      ],
      "execution_count": 11
    },
    {
      "cell_type": "markdown",
      "source": "### 2. Multiple Inheritance\n\nA class can inherit from more than one parent class. This allows the subclass to access attributes and methods from multiple superclasses.\n\n#### Example of Multiple Inheritance:",
      "metadata": {}
    },
    {
      "cell_type": "code",
      "source": "class Canine:\n    def bark(self):\n        return \"Woof!\"\n\nclass Pet:\n    def play(self):\n        return \"Playing!\"\n\nclass Dog(Canine, Pet):\n    pass\n\ndog = Dog()\nprint(dog.bark())  \nprint(dog.play())  ",
      "metadata": {
        "trusted": true
      },
      "outputs": [
        {
          "name": "stdout",
          "text": "Woof!\nPlaying!\n",
          "output_type": "stream"
        }
      ],
      "execution_count": 12
    },
    {
      "cell_type": "markdown",
      "source": "### 3. Multilevel Inheritance\n\nA class can inherit from a subclass, forming a chain of inheritance.\n\n#### Example:",
      "metadata": {}
    },
    {
      "cell_type": "code",
      "source": "class Animal:\n    def sound(self):\n        return \"Animal sound\"\n\nclass Dog(Animal):\n    def bark(self):\n        return \"Woof!\"\n\nclass Puppy(Dog):\n    def weep(self):\n        return \"Whimper!\"\n\npuppy = Puppy()\nprint(puppy.sound())  \nprint(puppy.bark())   \nprint(puppy.weep())   ",
      "metadata": {
        "trusted": true
      },
      "outputs": [
        {
          "name": "stdout",
          "text": "Animal sound\nWoof!\nWhimper!\n",
          "output_type": "stream"
        }
      ],
      "execution_count": 13
    },
    {
      "cell_type": "markdown",
      "source": "### 4. Hierarchical Inheritance\n\nMultiple subclasses inherit from the same parent class.\n\n#### Example:",
      "metadata": {}
    },
    {
      "cell_type": "code",
      "source": "class Animal:\n    def sound(self):\n        return \"Animal sound\"\n\nclass Dog(Animal):\n    def bark(self):\n        return \"Woof!\"\n\nclass Cat(Animal):\n    def meow(self):\n        return \"Meow!\"\n\ndog = Dog()\ncat = Cat()\nprint(dog.sound())  \nprint(cat.sound())  ",
      "metadata": {
        "trusted": true
      },
      "outputs": [
        {
          "name": "stdout",
          "text": "Animal sound\nAnimal sound\n",
          "output_type": "stream"
        }
      ],
      "execution_count": 14
    },
    {
      "cell_type": "markdown",
      "source": "### 5. Hybrid Inheritance\n\nA combination of two or more types of inheritance.\n\n#### Example:",
      "metadata": {}
    },
    {
      "cell_type": "code",
      "source": "class Animal:\n    def sound(self):\n        return \"Animal sound\"\n\nclass Dog(Animal):\n    def bark(self):\n        return \"Woof!\"\n\nclass Cat(Animal):\n    def meow(self):\n        return \"Meow!\"\n\nclass Hybrid(Dog, Cat):\n    def description(self):\n        return \"I am a hybrid of Dog and Cat.\"\n\nhybrid = Hybrid()\nprint(hybrid.bark())  \nprint(hybrid.meow())  ",
      "metadata": {
        "trusted": true
      },
      "outputs": [
        {
          "name": "stdout",
          "text": "Woof!\nMeow!\n",
          "output_type": "stream"
        }
      ],
      "execution_count": 15
    },
    {
      "cell_type": "markdown",
      "source": "### Summary\n\n* Single Inheritance: One parent, one child.\n* Multiple Inheritance: One child, multiple parents.\n* Multilevel Inheritance: A chain of inheritance.\n* Hierarchical Inheritance: Multiple children from one parent.\n* Hybrid Inheritance: A mix of multiple types.\n\nThese inheritance types allow for a flexible and organized approach to designing classes in Python.",
      "metadata": {}
    },
    {
      "cell_type": "markdown",
      "source": "## 7. What is the Method Resolution Order (MRO) in Python? How can you retrieve it programmatically?",
      "metadata": {}
    },
    {
      "cell_type": "markdown",
      "source": "Method Resolution Order (MRO) in Python is the order in which methods are looked up when they are called on an object. It determines the sequence of classes that Python checks when searching for a method or attribute. This is particularly important in the context of multiple inheritance, where the same method may exist in multiple parent classes.\n\n### How MRO Works\n\n* Depth-First Search: Python uses a depth-first search algorithm for resolving methods.\n\n* Left to Right: In the case of multiple inheritance, it searches the classes from left to right.\n\n### C3 Linearization\nPython implements MRO using a method called C3 linearization, which ensures a consistent order of classes. It maintains the order of inheritance and respects the order of the base classes as defined.\n\n### Retrieving MRO Programmatically\nYou can retrieve the MRO of a class using the mro() method or the __mro__ attribute.\n\n#### Example:",
      "metadata": {}
    },
    {
      "cell_type": "code",
      "source": "class A:\n    pass\n\nclass B(A):\n    pass\n\nclass C(A):\n    pass\n\nclass D(B, C):\n    pass\n\n# Retrieve MRO\nprint(D.mro())       # Using the mro() method\nprint(D.__mro__)    # Using the __mro__ attribute",
      "metadata": {
        "trusted": true
      },
      "outputs": [
        {
          "name": "stdout",
          "text": "[<class '__main__.D'>, <class '__main__.B'>, <class '__main__.C'>, <class '__main__.A'>, <class 'object'>]\n(<class '__main__.D'>, <class '__main__.B'>, <class '__main__.C'>, <class '__main__.A'>, <class 'object'>)\n",
          "output_type": "stream"
        }
      ],
      "execution_count": 16
    },
    {
      "cell_type": "markdown",
      "source": "The output of the above code will show the MRO for class D:",
      "metadata": {}
    },
    {
      "cell_type": "markdown",
      "source": "### Summary\n\n* MRO determines the order of method resolution in classes, especially with multiple inheritance.\n* You can retrieve the MRO using ClassName.mro() or ClassName.__mro__.\n\nUnderstanding MRO is essential for effectively managing method and attribute resolution in complex class hierarchies.",
      "metadata": {}
    },
    {
      "cell_type": "markdown",
      "source": "## 8. Create an abstract base class `Shape` with an abstract method `area()`. Then create two subclasses `Circle` and `Rectangle` that implement the `area()` method.",
      "metadata": {}
    },
    {
      "cell_type": "markdown",
      "source": "Here's an implementation of an abstract base class Shape with an abstract method area(), along with two subclasses, Circle and Rectangle, that implement this method.\n\n### Implementation",
      "metadata": {}
    },
    {
      "cell_type": "code",
      "source": "from abc import ABC, abstractmethod\nimport math\n\n# Abstract Base Class\nclass Shape(ABC):\n    @abstractmethod\n    def area(self):\n        pass\n\n# Subclass for Circle\nclass Circle(Shape):\n    def __init__(self, radius):\n        self.radius = radius\n\n    def area(self):\n        return math.pi * (self.radius ** 2)\n\n# Subclass for Rectangle\nclass Rectangle(Shape):\n    def __init__(self, width, height):\n        self.width = width\n        self.height = height\n\n    def area(self):\n        return self.width * self.height\n\n# Example usage\ncircle = Circle(5)\nrectangle = Rectangle(4, 6)\n\nprint(f\"Circle area: {circle.area():.2f}\")       \nprint(f\"Rectangle area: {rectangle.area()}\")     ",
      "metadata": {
        "trusted": true
      },
      "outputs": [
        {
          "name": "stdout",
          "text": "Circle area: 78.54\nRectangle area: 24\n",
          "output_type": "stream"
        }
      ],
      "execution_count": 17
    },
    {
      "cell_type": "markdown",
      "source": "### Explanation\n\n    1. Abstract Base Class (Shape):\n\n        * Inherits from ABC (Abstract Base Class).\n        * Contains an abstract method area() that must be implemented by subclasses.\n\n    2. Subclass (Circle):\n\n        * Takes radius as an argument during initialization.\n        * Implements the area() method using the formula πr2(square).\n \n    3. Subclass (Rectangle):\n\n        * Takes width and height as arguments during initialization.\n        * Implements the area() method using the formula width × height.\n\n### Example Usage\n\n* Creates instances of Circle and Rectangle, and calls their area() methods to calculate and print the area.\n\nThis structure enforces a consistent interface for all shapes, allowing for polymorphic behavior in handling different shape types.",
      "metadata": {}
    },
    {
      "cell_type": "markdown",
      "source": "## 9. Demonstrate polymorphism by creating a function that can work with different shape objects to calculate and print their areas.",
      "metadata": {}
    },
    {
      "cell_type": "markdown",
      "source": "Polymorphism allows different classes to be treated as instances of the same class through a common interface. In this case, we can create a function that accepts different shape objects (like Circle and Rectangle) and calculates their areas.\n\n#### Implementation\n\nHere's how you can demonstrate polymorphism with the previously defined Shape, Circle, and Rectangle classes:",
      "metadata": {}
    },
    {
      "cell_type": "code",
      "source": "from abc import ABC, abstractmethod\nimport math\n\n# Abstract Base Class\nclass Shape(ABC):\n    @abstractmethod\n    def area(self):\n        pass\n\n# Subclass for Circle\nclass Circle(Shape):\n    def __init__(self, radius):\n        self.radius = radius\n\n    def area(self):\n        return math.pi * (self.radius ** 2)\n\n# Subclass for Rectangle\nclass Rectangle(Shape):\n    def __init__(self, width, height):\n        self.width = width\n        self.height = height\n\n    def area(self):\n        return self.width * self.height\n\n# Function to calculate and print area\ndef print_area(shape: Shape):\n    print(f\"The area is: {shape.area():.2f}\")\n\n# Example usage\ncircle = Circle(5)\nrectangle = Rectangle(4, 6)\n\nprint_area(circle)      \nprint_area(rectangle)   ",
      "metadata": {
        "trusted": true
      },
      "outputs": [
        {
          "name": "stdout",
          "text": "The area is: 78.54\nThe area is: 24.00\n",
          "output_type": "stream"
        }
      ],
      "execution_count": 18
    },
    {
      "cell_type": "markdown",
      "source": "### Explanation\n\n 1. Polymorphic Function:\n\n        * The print_area() function accepts an object of type Shape and calls the area() method on it.\n        * This function works with any subclass of Shape (e.g., Circle, Rectangle) that implements the area() method.\n\n 2. Example Usage:\n\n        * Creates instances of Circle and Rectangle.\n        * Calls print_area() with both objects. The appropriate area() method is invoked based on the type of object passed.\n\nThis demonstrates polymorphism, as the same function (print_area) operates on different types of shape objects, utilizing their specific implementations of the area() method.",
      "metadata": {}
    },
    {
      "cell_type": "markdown",
      "source": "## 10. Implement encapsulation in a `Bank Account` class with private attributes for `balance` and `account_number`. Include methods for deposit, withdrawal, and balance inquiry. ",
      "metadata": {}
    },
    {
      "cell_type": "markdown",
      "source": "Here’s an implementation of a BankAccount class that demonstrates encapsulation using private attributes for balance and account_number. The class includes methods for depositing, withdrawing, and inquiring the balance.\n\n### Implementation",
      "metadata": {}
    },
    {
      "cell_type": "code",
      "source": "class BankAccount:\n    def __init__(self, account_number, initial_balance=0):\n        self.__account_number = account_number  # Private attribute\n        self.__balance = initial_balance          # Private attribute\n\n    def deposit(self, amount):\n        if amount > 0:\n            self.__balance += amount\n            print(f\"Deposited: Rs{amount:.2f}. New balance: Rs{self.__balance:.2f}\")\n        else:\n            print(\"Deposit amount must be positive.\")\n\n    def withdraw(self, amount):\n        if 0 < amount <= self.__balance:\n            self.__balance -= amount\n            print(f\"Withdrew: Rs{amount:.2f}. New balance: Rs{self.__balance:.2f}\")\n        else:\n            print(\"Withdrawal amount must be positive and less than or equal to the balance.\")\n\n    def get_balance(self):\n        return self.__balance\n\n    def get_account_number(self):\n        return self.__account_number\n\n# Example usage\naccount = BankAccount(\"12345678\", 1000)\n\nprint(f\"Account Number: {account.get_account_number()}\")\nprint(f\"Initial Balance: Rs{account.get_balance():.2f}\")\n\naccount.deposit(500)     \naccount.withdraw(200)   \nprint(f\"Final Balance: Rs{account.get_balance():.2f}\")  \n\naccount.withdraw(1500)   ",
      "metadata": {
        "trusted": true
      },
      "outputs": [
        {
          "name": "stdout",
          "text": "Account Number: 12345678\nInitial Balance: Rs1000.00\nDeposited: Rs500.00. New balance: Rs1500.00\nWithdrew: Rs200.00. New balance: Rs1300.00\nFinal Balance: Rs1300.00\nWithdrawal amount must be positive and less than or equal to the balance.\n",
          "output_type": "stream"
        }
      ],
      "execution_count": 20
    },
    {
      "cell_type": "markdown",
      "source": "### Explanation\n\n#### 1. Private Attributes:\n\n    * __account_number and __balance are private attributes, indicated by the double underscore prefix (__). This means they cannot be accessed directly from outside the class.\n\n#### 2. Methods:\n\n    * deposit(amount): Adds the specified amount to the balance if it's positive.\n    * withdraw(amount): Deducts the specified amount from the balance if it is positive and less than or equal to the current balance.\n    * get_balance(): Returns the current balance.\n    * get_account_number(): Returns the account number.\n\n#### 3. Example Usage:\n\n    * An instance of BankAccount is created with an account number and an initial balance.\n    * The methods are called to deposit and withdraw money, and to inquire about the balance.\n\nThis implementation of encapsulation ensures that the internal state of the BankAccount class is protected from direct modification, promoting data integrity and encapsulated behavior.",
      "metadata": {}
    },
    {
      "cell_type": "markdown",
      "source": "## 11. Write a class that overrides the `__str__` and `__add__` magic methods. What will these methods allow you to do?",
      "metadata": {}
    },
    {
      "cell_type": "markdown",
      "source": "In Python, overriding the __str__ and __add__ magic methods allows you to define custom string representations and addition behavior for your class instances.\n\n### Implementation\n\nHere’s a class called Vector that demonstrates these magic methods:",
      "metadata": {}
    },
    {
      "cell_type": "code",
      "source": "class Vector:\n    def __init__(self, x, y):\n        self.x = x\n        self.y = y\n\n    def __str__(self):\n        return f\"Vector({self.x}, {self.y})\"\n\n    def __add__(self, other):\n        if isinstance(other, Vector):\n            return Vector(self.x + other.x, self.y + other.y)\n        return NotImplemented\n\n# Example usage\nvector1 = Vector(2, 3)\nvector2 = Vector(5, 7)\n\n# Using __str__\nprint(vector1)  \n\n# Using __add__\nresult_vector = vector1 + vector2\nprint(result_vector)  ",
      "metadata": {
        "trusted": true
      },
      "outputs": [
        {
          "name": "stdout",
          "text": "Vector(2, 3)\nVector(7, 10)\n",
          "output_type": "stream"
        }
      ],
      "execution_count": 21
    },
    {
      "cell_type": "markdown",
      "source": "### Explanation\n\n#### 1. __init__ Method:\n\n    * Initializes the Vector instance with x and y coordinates.\n\n#### 2. __str__ Method:\n\n    * Overrides the default string representation of the object.\n    * When you call print(vector1), it uses the __str__ method to return a formatted string, making the output more readable.\n\n#### 3. __add__ Method:\n\n    * Overrides the addition operator (+).\n    * Allows you to add two Vector instances together.\n    * It checks if the other object is an instance of Vector. If it is, it returns a new Vector that is the result of the addition of the two vectors.\n\n### What These Methods Allow to Do\n\n* Custom String Representation: The __str__ method allows you to define how your object should be represented as a string, which is useful for debugging and logging. When printed or converted to a string, your object will show in a human-readable format.\n\n* Operator Overloading: The __add__ method allows you to define how the addition operator behaves with your class instances. This makes it intuitive to use the + operator to combine instances of your class, enhancing usability and expressiveness in your code.\n\nThis output demonstrates both the custom string representation and the result of adding two Vector instances.",
      "metadata": {}
    },
    {
      "cell_type": "markdown",
      "source": "## 12. Create a decorator that measures and prints the execution time of a function. ",
      "metadata": {}
    },
    {
      "cell_type": "markdown",
      "source": "Here’s how we can create a decorator in Python that measures and prints the execution time of a function:\n\n### Implementation",
      "metadata": {}
    },
    {
      "cell_type": "code",
      "source": "import time\nfrom functools import wraps\n\ndef timing_decorator(func):\n    @wraps(func)\n    def wrapper(*args, **kwargs):\n        start_time = time.time()  # Record the start time\n        result = func(*args, **kwargs)  # Call the original function\n        end_time = time.time()  # Record the end time\n        execution_time = end_time - start_time  # Calculate the duration\n        print(f\"Execution time of {func.__name__}: {execution_time:.6f} seconds\")\n        return result\n    return wrapper\n\n# Example usage\n@timing_decorator\ndef sample_function(n):\n    total = 0\n    for i in range(n):\n        total += i\n    return total\n\n# Call the decorated function\nresult = sample_function(1000000)\nprint(f\"Result: {result}\")",
      "metadata": {
        "trusted": true
      },
      "outputs": [
        {
          "name": "stdout",
          "text": "Execution time of sample_function: 0.286000 seconds\nResult: 499999500000\n",
          "output_type": "stream"
        }
      ],
      "execution_count": 22
    },
    {
      "cell_type": "markdown",
      "source": "### Explanation\n\n#### 1. Decorator Function:\n\n    * The timing_decorator function takes another function func as an argument.\n    * It defines a nested wrapper function that wraps the original function call.\n\n#### 2. Timing Logic:\n\n    * start_time records the current time before calling the original function.\n    * After the function completes, end_time records the time again.\n    * The execution time is calculated by subtracting start_time from end_time.\n\n#### 3. Printing Execution Time:\n\n    * The decorator prints the name of the function and its execution time formatted to six decimal places.\n\n#### 4. Using the Decorator:\n\n    * You apply the @timing_decorator decorator to any function (in this case, sample_function) to measure its execution time when called.\n\nThis output shows the time taken to execute sample_function and the result of the function. The decorator effectively enhances the function by providing timing information without modifying its core logic.",
      "metadata": {}
    },
    {
      "cell_type": "markdown",
      "source": "## 13. Explain the concept of the Diamond Problem in multiple inheritance. How does Python resolve it?",
      "metadata": {}
    },
    {
      "cell_type": "markdown",
      "source": "The Diamond Problem is a common issue in multiple inheritance scenarios where a class inherits from two or more classes that have a common ancestor. The problem arises when the method resolution order (MRO) becomes ambiguous, leading to uncertainty about which method or attribute should be inherited from the common ancestor.\n\n### The Diamond Problem\n\nConsider the following class hierarchy:",
      "metadata": {}
    },
    {
      "cell_type": "raw",
      "source": "       A\n      / \\\n     B   C\n      \\ /\n       D",
      "metadata": {}
    },
    {
      "cell_type": "markdown",
      "source": "    * Class A is the common ancestor.\n    * Classes B and C both inherit from A.\n    * Class D inherits from both B and C.\n\nIf we were to call a method defined in class A on an instance of class D, it would be unclear whether to call the method from B or C.\n\n### How Python Resolves the Diamond Problem\n\nPython resolves the Diamond Problem using a method called C3 linearization (or C3 superclass linearization). This algorithm establishes a consistent order for method resolution, ensuring that each class is called in a specific order while respecting the inheritance hierarchy.\n\n#### C3 Linearization Rules\n\n    * Depth-First Search: It searches the inheritance tree depth-first.\n    * Left to Right: It respects the order of base classes as defined in the class definition.\n    * No Repetition: Once a class is resolved, it is not included again in the MRO.\n\n#### Example\n\nLet's illustrate this with code:",
      "metadata": {}
    },
    {
      "cell_type": "code",
      "source": "class A:\n    def greet(self):\n        return \"Hello from A\"\n\nclass B(A):\n    def greet(self):\n        return \"Hello from B\"\n\nclass C(A):\n    def greet(self):\n        return \"Hello from C\"\n\nclass D(B, C):\n    pass\n\n# Creating an instance of D\nd = D()\nprint(d.greet())  \nprint(D.mro())    ",
      "metadata": {
        "trusted": true
      },
      "outputs": [
        {
          "name": "stdout",
          "text": "Hello from B\n[<class '__main__.D'>, <class '__main__.B'>, <class '__main__.C'>, <class '__main__.A'>, <class 'object'>]\n",
          "output_type": "stream"
        }
      ],
      "execution_count": 24
    },
    {
      "cell_type": "markdown",
      "source": "### Explanation of Output\n\n* When d.greet() is called, Python looks up the method resolution order (MRO) for class D:\n\n        * First, it checks class D, then B, then C, and finally A.\n        * Since B is first in the MRO and provides an implementation of greet, that method is called, resulting in \"Hello from B\".\n\n* The print(D.mro()) statement displays the method resolution order.\n\n#### Summary\n\n* The Diamond Problem arises in multiple inheritance when classes inherit from a common ancestor.\n* Python resolves this ambiguity using C3 linearization, which provides a consistent method resolution order.\n* This ensures that the correct method is called, maintaining clarity and avoiding conflicts in the inheritance hierarchy.",
      "metadata": {}
    },
    {
      "cell_type": "markdown",
      "source": "## 14. Write a class method that keeps track of the number of instances created from a class.",
      "metadata": {}
    },
    {
      "cell_type": "markdown",
      "source": "We can achieve this by using a class variable to count the instances. Here's an example of a class called InstanceCounter that keeps track of the number of instances created:\n\n### Implementation",
      "metadata": {}
    },
    {
      "cell_type": "code",
      "source": "class InstanceCounter:\n    # Class variable to keep track of the number of instances\n    instance_count = 0\n\n    def __init__(self):\n        # Increment the instance count whenever a new instance is created\n        InstanceCounter.instance_count += 1\n\n    @classmethod\n    def get_instance_count(cls):\n        # Class method to return the current instance count\n        return cls.instance_count\n\n# Example usage\ninstance1 = InstanceCounter()\ninstance2 = InstanceCounter()\ninstance3 = InstanceCounter()\n\nprint(f\"Number of instances created: {InstanceCounter.get_instance_count()}\")  \n",
      "metadata": {
        "trusted": true
      },
      "outputs": [
        {
          "name": "stdout",
          "text": "Number of instances created: 3\n",
          "output_type": "stream"
        }
      ],
      "execution_count": 25
    },
    {
      "cell_type": "markdown",
      "source": "### Explanation\n\n#### 1. Class Variable:\n\n        * instance_count is a class variable initialized to 0. It keeps track of the total number of instances created from the class.\n\n#### 2. __init__ Method:\n\n        *Each time a new instance of InstanceCounter is created, the __init__ method increments the instance_count by 1.\n\n#### 3. Class Method:\n\n        * get_instance_count() is a class method that returns the current value of instance_count. It is defined with the @classmethod decorator and takes cls as the first parameter, representing the class itself.\n\n#### 4. Example Usage:\n\n        * Three instances of InstanceCounter are created.\n        * The total number of instances is retrieved using the class method get_instance_count() and printed.\n\nThis implementation effectively tracks the number of instances and provides a way to access that count through a class method.",
      "metadata": {}
    },
    {
      "cell_type": "markdown",
      "source": "## 15. Implement a static method in a class that checks if a given year is a leap year.",
      "metadata": {}
    },
    {
      "cell_type": "markdown",
      "source": "It can implement a static method in a class to check if a given year is a leap year. Here’s an example of a class called YearUtility that contains a static method is_leap_year.\n\n### Implementation",
      "metadata": {}
    },
    {
      "cell_type": "code",
      "source": "class YearUtility:\n    @staticmethod\n    def is_leap_year(year):\n        \"\"\"Check if a given year is a leap year.\"\"\"\n        if (year % 4 == 0 and year % 100 != 0) or (year % 400 == 0):\n            return True\n        return False\n\n# Example usage\nyear = 2024\nif YearUtility.is_leap_year(year):\n    print(f\"{year} is a leap year.\")\nelse:\n    print(f\"{year} is not a leap year.\")\n\nyear = 1900\nif YearUtility.is_leap_year(year):\n    print(f\"{year} is a leap year.\")\nelse:\n    print(f\"{year} is not a leap year.\")",
      "metadata": {
        "trusted": true
      },
      "outputs": [
        {
          "name": "stdout",
          "text": "2024 is a leap year.\n1900 is not a leap year.\n",
          "output_type": "stream"
        }
      ],
      "execution_count": 26
    },
    {
      "cell_type": "markdown",
      "source": "### Explanation\n\n#### 1. Static Method:\n\n        * The is_leap_year method is defined with the @staticmethod decorator, indicating that it does not depend on instance or class state.\n        * It takes a single parameter, year, and checks if it meets the conditions for being a leap year.\n\n#### 2. Leap Year Logic:\n\n        * A year is a leap year if:\n        * It is divisible by 4.\n        * It is not divisible by 100, unless it is also divisible by 400.\n\n#### 3. Example Usage:\n\n        * The method is called with different years to check if they are leap years, and the results are printed.\n\nThis implementation provides a clear and concise way to determine if a year is a leap year using a static method, which can be called without needing to create an instance of the YearUtility class.",
      "metadata": {}
    },
    {
      "cell_type": "code",
      "source": "",
      "metadata": {
        "trusted": true
      },
      "outputs": [],
      "execution_count": null
    }
  ]
}